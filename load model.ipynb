{
 "cells": [
  {
   "cell_type": "markdown",
   "id": "6710e6af",
   "metadata": {},
   "source": [
    "import model"
   ]
  },
  {
   "cell_type": "code",
   "execution_count": 1,
   "id": "f61bc3df",
   "metadata": {},
   "outputs": [],
   "source": [
    "import numpy as np\n",
    "import os\n",
    "\n",
    "import keras\n",
    "from keras.models import load_model\n",
    "\n",
    "import numpy as np\n",
    "import librosa\n",
    "\n",
    "model = load_model(\"emotion_model.keras\", compile=False)"
   ]
  },
  {
   "cell_type": "markdown",
   "id": "5bd57c53",
   "metadata": {},
   "source": [
    "data augmentation methods (from model)"
   ]
  },
  {
   "cell_type": "code",
   "execution_count": 3,
   "id": "f9bb02e3",
   "metadata": {},
   "outputs": [],
   "source": [
    "def noise(data):\n",
    "    noise_amp = 0.035*np.random.uniform()*np.amax(data)\n",
    "    data = data + noise_amp*np.random.normal(size=data.shape[0])\n",
    "    return data\n",
    "\n",
    "def stretch(data):\n",
    "    return librosa.effects.time_stretch(data, rate=0.8)\n",
    "\n",
    "def shift(data):\n",
    "    shift_range = int(np.random.uniform(low=-5, high = 5)*1000)\n",
    "    return np.roll(data, shift_range)\n",
    "\n",
    "def pitch(data, sampling_rate, pitch_factor=0.7):\n",
    "    return librosa.effects.pitch_shift(data, sr=sampling_rate, n_steps=pitch_factor)"
   ]
  },
  {
   "cell_type": "markdown",
   "id": "7505d04a",
   "metadata": {},
   "source": [
    "feature extraction methods (from model)"
   ]
  },
  {
   "cell_type": "code",
   "execution_count": 7,
   "id": "b2976cba",
   "metadata": {},
   "outputs": [],
   "source": [
    "def extract_features(data, sample_rate):\n",
    "    # ZCR\n",
    "    result = np.array([])\n",
    "    zcr = np.mean(librosa.feature.zero_crossing_rate(y=data).T, axis=0)\n",
    "    result=np.hstack((result, zcr)) # stacking horizontally\n",
    "\n",
    "    # Chroma_stft\n",
    "    stft = np.abs(librosa.stft(data))\n",
    "    chroma_stft = np.mean(librosa.feature.chroma_stft(S=stft, sr=sample_rate).T, axis=0)\n",
    "    result = np.hstack((result, chroma_stft)) # stacking horizontally\n",
    "\n",
    "    # MFCC\n",
    "    mfcc = np.mean(librosa.feature.mfcc(y=data, sr=sample_rate).T, axis=0)\n",
    "    result = np.hstack((result, mfcc)) # stacking horizontally\n",
    "\n",
    "    # Root Mean Square Value\n",
    "    rms = np.mean(librosa.feature.rms(y=data).T, axis=0)\n",
    "    result = np.hstack((result, rms)) # stacking horizontally\n",
    "\n",
    "    # MelSpectogram\n",
    "    mel = np.mean(librosa.feature.melspectrogram(y=data, sr=sample_rate).T, axis=0)\n",
    "    result = np.hstack((result, mel)) # stacking horizontally\n",
    "    \n",
    "    return result\n",
    "\n",
    "def get_features(path):\n",
    "    # duration and offset are used to take care of the no audio in start and the ending of each audio files as seen above.\n",
    "    data, sample_rate = librosa.load(path, duration=2.5, offset=0.6)\n",
    "    \n",
    "    # without augmentation\n",
    "    res1 = extract_features(data, sample_rate)\n",
    "    result = np.array(res1)\n",
    "    \n",
    "    # data with noise\n",
    "    noise_data = noise(data)\n",
    "    res2 = extract_features(noise_data, sample_rate)\n",
    "    result = np.vstack((result, res2)) # stacking vertically\n",
    "    \n",
    "    # data with stretching and pitching\n",
    "    new_data = stretch(data)\n",
    "    data_stretch_pitch = pitch(new_data, sample_rate)\n",
    "    res3 = extract_features(data_stretch_pitch, sample_rate)\n",
    "    result = np.vstack((result, res3)) # stacking vertically\n",
    "    \n",
    "    return result"
   ]
  },
  {
   "cell_type": "markdown",
   "id": "b8cdefe3",
   "metadata": {},
   "source": [
    "labels (from model)"
   ]
  },
  {
   "cell_type": "code",
   "execution_count": 14,
   "id": "1481ed5d",
   "metadata": {},
   "outputs": [],
   "source": [
    "emotion_dict = {0:'neutral', 1:'calm', 2:'happy', 3:'sad', 4:'angry', 5:'fear'}"
   ]
  },
  {
   "cell_type": "markdown",
   "id": "1b73f3f2",
   "metadata": {},
   "source": [
    "make a prediction"
   ]
  },
  {
   "cell_type": "code",
   "execution_count": 25,
   "id": "41bb6440",
   "metadata": {},
   "outputs": [
    {
     "name": "stdout",
     "output_type": "stream",
     "text": [
      "1/1 ━━━━━━━━━━━━━━━━━━━━ 0s 16ms/ste ━━━━━━━━━━━━━━━━━━━━ 0s 31ms/step\n",
      "Prediction probabilities: [0. 0. 0. 0. 1. 0.]\n",
      "Predicted emotion: angry\n"
     ]
    }
   ],
   "source": [
    "file_path = os.path.join(os.getcwd(), \"sample video.wav\")\n",
    "features = get_features(file_path)\n",
    "\n",
    "\n",
    "# If you want to predict on all 3 versions\n",
    "predictions = model.predict(features)  # shape: (3, 6)\n",
    "\n",
    "# Optionally average the predictions to get a more stable result\n",
    "avg_prediction = np.mean(predictions, axis=0)\n",
    "predicted_class = np.argmax(avg_prediction)\n",
    "\n",
    "print(\"Prediction probabilities:\", avg_prediction)\n",
    "print(\"Predicted emotion:\", emotion_dict[predicted_class])"
   ]
  }
 ],
 "metadata": {
  "kernelspec": {
   "display_name": "Python 3",
   "language": "python",
   "name": "python3"
  },
  "language_info": {
   "codemirror_mode": {
    "name": "ipython",
    "version": 3
   },
   "file_extension": ".py",
   "mimetype": "text/x-python",
   "name": "python",
   "nbconvert_exporter": "python",
   "pygments_lexer": "ipython3",
   "version": "3.11.1"
  }
 },
 "nbformat": 4,
 "nbformat_minor": 5
}
